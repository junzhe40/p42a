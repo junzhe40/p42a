{
 "cells": [
  {
   "cell_type": "markdown",
   "id": "ccfd0451",
   "metadata": {},
   "source": [
    "## This is my Python program to print 1 to 10\n",
    "\n",
    "This is the version without using **loops**"
   ]
  },
  {
   "cell_type": "code",
   "execution_count": 1,
   "id": "6e753740",
   "metadata": {},
   "outputs": [
    {
     "name": "stdout",
     "output_type": "stream",
     "text": [
      "1 2 3 4 5 6 7 8 9 10\n",
      "integers 1 to 10\n"
     ]
    }
   ],
   "source": [
    "print (1,2,3,4,5,6,7,8,9,10)\n",
    "print (\"integers 1 to 10\")\n",
    "\n"
   ]
  },
  {
   "cell_type": "markdown",
   "id": "27615b5e",
   "metadata": {},
   "source": [
    "This is the *version* using **loops**\n",
    "* pt 1\n",
    "* pt 2\n",
    "\n",
    "> pt 1\n",
    "\n",
    "> pt 2"
   ]
  },
  {
   "cell_type": "code",
   "execution_count": null,
   "id": "ec20f55a",
   "metadata": {},
   "outputs": [],
   "source": [
    "for i in range(1,11):\n",
    "    print(i)"
   ]
  },
  {
   "cell_type": "markdown",
   "id": "a72728aa",
   "metadata": {},
   "source": [
    "[wiki](www.wikipedia.com)"
   ]
  },
  {
   "cell_type": "code",
   "execution_count": null,
   "id": "d03e5830",
   "metadata": {},
   "outputs": [],
   "source": []
  }
 ],
 "metadata": {
  "kernelspec": {
   "display_name": "Python 3",
   "language": "python",
   "name": "python3"
  },
  "language_info": {
   "codemirror_mode": {
    "name": "ipython",
    "version": 3
   },
   "file_extension": ".py",
   "mimetype": "text/x-python",
   "name": "python",
   "nbconvert_exporter": "python",
   "pygments_lexer": "ipython3",
   "version": "3.8.8"
  }
 },
 "nbformat": 4,
 "nbformat_minor": 5
}
